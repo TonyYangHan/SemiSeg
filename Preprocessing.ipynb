{
 "cells": [
  {
   "cell_type": "code",
   "execution_count": 12,
   "id": "21c5320f",
   "metadata": {},
   "outputs": [],
   "source": [
    "import json, os, cv2, numpy as np"
   ]
  },
  {
   "cell_type": "code",
   "execution_count": 13,
   "id": "7fd73798",
   "metadata": {},
   "outputs": [
    {
     "data": {
      "text/plain": [
       "'/mnt/d/Work/Side_Projects/Salk_Adam_Farsheed_img_segmentation'"
      ]
     },
     "execution_count": 13,
     "metadata": {},
     "output_type": "execute_result"
    }
   ],
   "source": [
    "os.getcwd()"
   ]
  },
  {
   "cell_type": "markdown",
   "id": "db8ab470-262e-4c1c-955f-3c2ab6839904",
   "metadata": {},
   "source": [
    "### Match annotations"
   ]
  },
  {
   "cell_type": "code",
   "execution_count": 15,
   "id": "3f676478",
   "metadata": {},
   "outputs": [],
   "source": [
    "def match_img_names(mask_dir):\n",
    "    with open(f'{mask_dir}.json', 'r') as f:\n",
    "        annotations = json.load(f)\n",
    "    img_mask = dict()\n",
    "    masks = os.listdir(mask_dir)\n",
    "    for task in annotations:\n",
    "        img_str = task[\"file_upload\"].rsplit('.',1)[0].split('-',1)[1]\n",
    "        img_mask[str(task[\"id\"])] = img_str\n",
    "    for m in masks:\n",
    "        m_id = m.split('-')[1]\n",
    "        new_name = f\"{img_mask[m_id]}.jpg\"\n",
    "        os.rename(os.path.join(mask_dir,m),os.path.join(mask_dir,new_name))"
   ]
  },
  {
   "cell_type": "code",
   "execution_count": 16,
   "id": "c7da822b",
   "metadata": {},
   "outputs": [],
   "source": [
    "match_img_names(\"test_annotation\")"
   ]
  },
  {
   "cell_type": "markdown",
   "id": "d98b0608-a21c-4c51-bcd5-508fec9b7fe4",
   "metadata": {},
   "source": [
    "### Remove duplicated images in source folder"
   ]
  },
  {
   "cell_type": "code",
   "execution_count": 4,
   "id": "334820a2",
   "metadata": {},
   "outputs": [],
   "source": [
    "def remove_duplicates(src, selected):\n",
    "    selected_fns = os.listdir(selected)\n",
    "    src_fns = os.listdir(src)\n",
    "    for fn in src_fns:\n",
    "        if fn in selected_fns:\n",
    "            os.remove(os.path.join(src,fn))"
   ]
  },
  {
   "cell_type": "code",
   "execution_count": 5,
   "id": "2a08d60f-6aff-4641-bd9d-1a557ce741bd",
   "metadata": {},
   "outputs": [],
   "source": [
    "remove_duplicates(\"pool_images/\", \"selected_images_1/\")"
   ]
  },
  {
   "cell_type": "markdown",
   "id": "51fffc01-1027-4355-a906-3cba6e79c489",
   "metadata": {},
   "source": [
    "### Remove spaces in names"
   ]
  },
  {
   "cell_type": "code",
   "execution_count": 17,
   "id": "fbc87548-2dff-4481-b7f0-60e82af0c9ab",
   "metadata": {},
   "outputs": [],
   "source": [
    "sub_dir = \"test_images/\"\n",
    "for m in os.listdir(sub_dir):\n",
    "    os.rename(os.path.join(sub_dir,m), os.path.join(sub_dir,m.replace(\" \",\"_\")))"
   ]
  },
  {
   "cell_type": "markdown",
   "id": "43b9c53d-34a2-4c35-9e26-df39957523b5",
   "metadata": {},
   "source": [
    "### Explore dataset"
   ]
  },
  {
   "cell_type": "code",
   "execution_count": null,
   "id": "42d6094e-f50a-4317-8ae4-19afb54e6817",
   "metadata": {},
   "outputs": [],
   "source": [
    "# def load_and_preprocess_cv2(path):\n",
    "#     img = cv2.imread(path, cv2.IMREAD_COLOR)  # Loads BGR\n",
    "#     img = cv2.resize(img, target_size).astype(np.float32) # cast to float so float result is saved after /= operation\n",
    "#     img /= 255.0\n",
    "#     return img\n",
    "\n",
    "# def load_images_cv2_parallel(paths, num_workers=24):\n",
    "#     with ThreadPoolExecutor(max_workers=num_workers) as executor:\n",
    "#         images = list(executor.map(load_and_preprocess_cv2, paths))\n",
    "#     return np.stack(images)"
   ]
  },
  {
   "cell_type": "code",
   "execution_count": 10,
   "id": "2ce45476-c1ff-4a54-a5aa-64fba13c300b",
   "metadata": {},
   "outputs": [
    {
     "name": "stdout",
     "output_type": "stream",
     "text": [
      "0.8275482177734375\n"
     ]
    }
   ],
   "source": [
    "mask_dir = \"annotation_1/\"\n",
    "mask_names = os.listdir(mask_dir)\n",
    "total_px, fg_px = len(mask_names) * 512**2, 0\n",
    "for m in os.listdir(mask_dir):\n",
    "    mask = cv2.resize(cv2.imread(os.path.join(mask_dir,m)), (512,512))\n",
    "    fg_px += np.sum(mask > 127)\n",
    "print(fg_px/total_px)"
   ]
  },
  {
   "cell_type": "code",
   "execution_count": null,
   "id": "b088022f-ee30-4a10-9809-67e25aa503ca",
   "metadata": {},
   "outputs": [],
   "source": []
  }
 ],
 "metadata": {
  "kernelspec": {
   "display_name": "Python 3 (ipykernel)",
   "language": "python",
   "name": "python3"
  },
  "language_info": {
   "codemirror_mode": {
    "name": "ipython",
    "version": 3
   },
   "file_extension": ".py",
   "mimetype": "text/x-python",
   "name": "python",
   "nbconvert_exporter": "python",
   "pygments_lexer": "ipython3",
   "version": "3.11.13"
  }
 },
 "nbformat": 4,
 "nbformat_minor": 5
}
